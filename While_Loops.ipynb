{
 "cells": [
  {
   "cell_type": "markdown",
   "metadata": {},
   "source": [
    "# **WHILE Loops**"
   ]
  },
  {
   "cell_type": "markdown",
   "metadata": {},
   "source": [
    "## **This Program shows the basic structure of a WHILE loop**"
   ]
  },
  {
   "cell_type": "code",
   "execution_count": null,
   "metadata": {},
   "outputs": [],
   "source": [
    "# Program 1\n",
    "# Program Showing Basic Structure of a While Loop\n",
    "def While_Loop():\n",
    "    j = 0            # The variable j is initiated\n",
    "    while j <= 5:\n",
    "        print(j)     \n",
    "        j = j+1      # j is incremented \n",
    "    "
   ]
  },
  {
   "cell_type": "code",
   "execution_count": null,
   "metadata": {
    "scrolled": true
   },
   "outputs": [],
   "source": [
    "While_Loop()"
   ]
  },
  {
   "cell_type": "markdown",
   "metadata": {},
   "source": [
    "## **This Program shows you get a syntax error if you forget to initialise the variable**"
   ]
  },
  {
   "cell_type": "code",
   "execution_count": null,
   "metadata": {},
   "outputs": [],
   "source": [
    "# Program 2\n",
    "# Forgetting to Initialise the j variable\n",
    "def While_Loop():\n",
    "    while j <=5:\n",
    "        print(j)\n",
    "        j = j+1"
   ]
  },
  {
   "cell_type": "code",
   "execution_count": null,
   "metadata": {
    "scrolled": true
   },
   "outputs": [],
   "source": [
    "While_Loop()"
   ]
  },
  {
   "cell_type": "markdown",
   "metadata": {},
   "source": [
    "##  ** This Program shows you get an Infinite Loop if you forget to increment the variable"
   ]
  },
  {
   "cell_type": "code",
   "execution_count": null,
   "metadata": {},
   "outputs": [],
   "source": [
    "# Program 3\n",
    "# Forgetting to Increment the j variable and you get an Infinite Loop\n",
    "def While_Loop():\n",
    "    j = 0\n",
    "    while j <=5:\n",
    "        print(j)\n",
    "       "
   ]
  },
  {
   "cell_type": "code",
   "execution_count": null,
   "metadata": {
    "scrolled": false
   },
   "outputs": [],
   "source": [
    "While_Loop()"
   ]
  },
  {
   "cell_type": "raw",
   "metadata": {},
   "source": [
    "0\n",
    "0\n",
    "0\n",
    "0\n",
    "0\n",
    "0"
   ]
  },
  {
   "cell_type": "markdown",
   "metadata": {},
   "source": [
    "## ** Using a WHILE loop for entering the Correct Password"
   ]
  },
  {
   "cell_type": "code",
   "execution_count": 1,
   "metadata": {},
   "outputs": [],
   "source": [
    "def Correct_Password():\n",
    "    Password = \"Chocolate\"\n",
    "    Active = True\n",
    "    while Active == True:\n",
    "        User_Input = input(\"Enter Password \")\n",
    "        if User_Input == Password:\n",
    "            Active = False\n",
    "        else:\n",
    "            print(\"Try again\")\n",
    "            \n",
    "    print(\"Well done. You have entered the Correct Password\")\n",
    "            "
   ]
  },
  {
   "cell_type": "code",
   "execution_count": 2,
   "metadata": {},
   "outputs": [
    {
     "name": "stdout",
     "output_type": "stream",
     "text": [
      "Enter Password Egg\n",
      "Try again\n",
      "Enter Password Bread\n",
      "Try again\n",
      "Enter Password Chocolate\n",
      "Well done. You have entered the Correct Password\n"
     ]
    }
   ],
   "source": [
    "Correct_Password()"
   ]
  },
  {
   "cell_type": "markdown",
   "metadata": {},
   "source": [
    "## **Using a WHILE loop to Check if a Password of Correct Length has been entered"
   ]
  },
  {
   "cell_type": "code",
   "execution_count": 7,
   "metadata": {},
   "outputs": [],
   "source": [
    "## Entering a Password with of length 5 Characters\n",
    "def Password():\n",
    "    Active = True\n",
    "    while Active == True:\n",
    "        User_Input = input(\"Enter a Password of length 5 characters \")\n",
    "        Length = len(User_Input) #len sees the length of the string\n",
    "        if Length == 5:\n",
    "            Active = False\n",
    "        else:\n",
    "            print(\"Try again\")\n",
    "    print(\"Well done. You have entered a Password of length 5 characters\")\n",
    "            \n",
    "        \n",
    "        "
   ]
  },
  {
   "cell_type": "code",
   "execution_count": 8,
   "metadata": {},
   "outputs": [
    {
     "name": "stdout",
     "output_type": "stream",
     "text": [
      "Enter a Password of length 5 characters Egg\n",
      "Try again\n",
      "Enter a Password of length 5 characters Cake\n",
      "Try again\n",
      "Enter a Password of length 5 characters Bread\n",
      "Well done. You have entered a Password of length 5 characters\n"
     ]
    }
   ],
   "source": [
    "Password()"
   ]
  },
  {
   "cell_type": "markdown",
   "metadata": {},
   "source": [
    "## **Using a WHILE Loop to Check if a Password of between 5 and 10 characters"
   ]
  },
  {
   "cell_type": "code",
   "execution_count": 12,
   "metadata": {},
   "outputs": [],
   "source": [
    "## Entering a Password with of between 5 and 10 Characters\n",
    "def Password():\n",
    "    Active = True\n",
    "    while Active == True:\n",
    "        User_Input = input(\"Enter a Password between 5 and 10 characters \")\n",
    "        Length = len(User_Input) #len sees the length of the string\n",
    "        if Length >= 5 and Length <= 10:\n",
    "            Active = False\n",
    "        else:\n",
    "            print(\"Try again\")\n",
    "    print(\"Well done. You have entered a Password between 5 and 10 characters\")\n",
    "          "
   ]
  },
  {
   "cell_type": "code",
   "execution_count": 13,
   "metadata": {},
   "outputs": [
    {
     "name": "stdout",
     "output_type": "stream",
     "text": [
      "Enter a Password between 5 and 10 characters w\n",
      "Try again\n",
      "Enter a Password between 5 and 10 characters e\n",
      "Try again\n",
      "Enter a Password between 5 and 10 characters eret\n",
      "Try again\n",
      "Enter a Password between 5 and 10 characters 12345678901\n",
      "Try again\n",
      "Enter a Password between 5 and 10 characters bread\n",
      "Well done. You have entered a Password between 5 and 10 characters\n"
     ]
    }
   ],
   "source": [
    "Password()"
   ]
  },
  {
   "cell_type": "markdown",
   "metadata": {},
   "source": [
    "## Entering a Password which starts with the letter 'A'\n"
   ]
  },
  {
   "cell_type": "code",
   "execution_count": 18,
   "metadata": {},
   "outputs": [],
   "source": [
    "## Entering a Password which starts with the Letter 'A'\n",
    "def Password_A():\n",
    "    Active = True\n",
    "    while Active == True:\n",
    "        User_Input = input(\"Enter a Password which starts with the Letter A \")\n",
    "        First_Letter = User_Input[0:1] #The '0' refers to the 1st Character \n",
    "                                       # and '1' means it will consider 1 character.\n",
    "        if First_Letter == 'A':\n",
    "            Active = False\n",
    "        else:\n",
    "            print(\"Try again\")\n",
    "    print(\"Well done. You have entered a Password which starts with the letter A\")\n",
    "          "
   ]
  },
  {
   "cell_type": "code",
   "execution_count": 19,
   "metadata": {},
   "outputs": [
    {
     "name": "stdout",
     "output_type": "stream",
     "text": [
      "Enter a Password which starts with the Letter A erwer\n",
      "Try again\n",
      "Enter a Password which starts with the Letter A 233\n",
      "Try again\n",
      "Enter a Password which starts with the Letter A Apple\n",
      "Well done. You have entered a Password which starts with the letter A\n"
     ]
    }
   ],
   "source": [
    "Password_A()"
   ]
  },
  {
   "cell_type": "markdown",
   "metadata": {},
   "source": [
    "## **Entering a Password which ensures the first two characters are alphabetic characters"
   ]
  },
  {
   "cell_type": "code",
   "execution_count": 14,
   "metadata": {},
   "outputs": [],
   "source": [
    "def Password():\n",
    "     Active = True\n",
    "     while Active == True:\n",
    "        User_Input = input(\"Enter a Password where the 1st 2 characters are alphabetic \")\n",
    "        First_Letter = User_Input[0:2] #'0' refers to the 1st character. '2' refers to the number of Characters considered\n",
    "        if First_Letter.isalpha(): #Checks if the first 2 Characters are Alphabetic \n",
    "            Active = False\n",
    "        else:\n",
    "            print(\"Try again\")\n",
    "     print(\"Well done. You have entered a Password where the 1st 2 characters are alphabetic\")\n",
    "          "
   ]
  },
  {
   "cell_type": "code",
   "execution_count": 15,
   "metadata": {},
   "outputs": [
    {
     "name": "stdout",
     "output_type": "stream",
     "text": [
      "Enter a Password where the 1st 2 characters are alphabetic E1rrr\n",
      "Try again\n",
      "Enter a Password where the 1st 2 characters are alphabetic *&§233\n",
      "Try again\n",
      "Enter a Password where the 1st 2 characters are alphabetic APPLE\n",
      "Well done. You have entered a Password where the 1st 2 characters are alphabetic\n"
     ]
    }
   ],
   "source": [
    "Password()"
   ]
  },
  {
   "cell_type": "markdown",
   "metadata": {},
   "source": [
    "## **Playing a Game which guesses the Number generated by the Computer"
   ]
  },
  {
   "cell_type": "code",
   "execution_count": 16,
   "metadata": {},
   "outputs": [],
   "source": [
    "def Guess_Number():\n",
    "    import random\n",
    "    Computer_Number = random.randint(1,10) # Computer Generates a Random Number between 1 and 10\n",
    "    print(\"The Computer has generated the Number \", Computer_Number)\n",
    "    while True:  #Notice a different way of putting the condition here\n",
    "        User_Guess = int(input(\"Enter a Number \"))\n",
    "        if User_Guess == Computer_Number:\n",
    "            break   #The break statement allows you to come out of the WHILE block\n",
    "        elif User_Guess < Computer_Number:\n",
    "            print(\"Try Again. Your Guess is Too Low \")\n",
    "        else:\n",
    "            print(\"Try again. Your Guess is Too High \")\n",
    "            \n",
    "            \n",
    "    print(\"Well done. You have guessed the Correct Number\")\n",
    "            \n",
    "            \n",
    "        \n",
    "        \n",
    "        \n",
    "        "
   ]
  },
  {
   "cell_type": "code",
   "execution_count": 17,
   "metadata": {},
   "outputs": [
    {
     "name": "stdout",
     "output_type": "stream",
     "text": [
      "The Computer has generated the Number  6\n",
      "Enter a Number 5\n",
      "Try Again. Your Guess is Too Low \n",
      "Enter a Number 7\n",
      "Try again. Your Guess is Too High \n",
      "Enter a Number 10\n",
      "Try again. Your Guess is Too High \n",
      "Enter a Number 3\n",
      "Try Again. Your Guess is Too Low \n",
      "Enter a Number 6\n",
      "Well done. You have guessed the Correct Number\n"
     ]
    }
   ],
   "source": [
    "Guess_Number()"
   ]
  },
  {
   "cell_type": "code",
   "execution_count": null,
   "metadata": {},
   "outputs": [],
   "source": []
  }
 ],
 "metadata": {
  "kernelspec": {
   "display_name": "Python 3",
   "language": "python",
   "name": "python3"
  },
  "language_info": {
   "codemirror_mode": {
    "name": "ipython",
    "version": 3
   },
   "file_extension": ".py",
   "mimetype": "text/x-python",
   "name": "python",
   "nbconvert_exporter": "python",
   "pygments_lexer": "ipython3",
   "version": "3.7.4"
  }
 },
 "nbformat": 4,
 "nbformat_minor": 2
}
